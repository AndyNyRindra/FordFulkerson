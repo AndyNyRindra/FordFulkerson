{
 "cells": [
  {
   "cell_type": "code",
   "execution_count": 1,
   "id": "d84ebceb",
   "metadata": {},
   "outputs": [
    {
     "name": "stdout",
     "output_type": "stream",
     "text": [
      "Sommet 0 ---> Couleur 2\n",
      "Sommet 1 ---> Couleur 0\n",
      "Sommet 2 ---> Couleur 1\n",
      "Sommet 3 ---> Couleur 2\n",
      "Sommet 4 ---> Couleur 0\n"
     ]
    }
   ],
   "source": [
    "class Graph:\n",
    "    def __init__(self, vertices):\n",
    "        self.V = vertices  # Nombre de sommets\n",
    "        self.graph = [[] for _ in range(vertices)]  # Liste d'adjacence\n",
    "\n",
    "    def add_edge(self, u, v):\n",
    "        self.graph[u].append(v)\n",
    "        self.graph[v].append(u)  # Graphe non orienté\n",
    "\n",
    "    def get_vertex_degree(self, v):\n",
    "        return len(self.graph[v])\n",
    "\n",
    "    def welsh_powell(self):\n",
    "        # Trier les sommets par degré décroissant\n",
    "        sorted_vertices = sorted(range(self.V), key=lambda x: self.get_vertex_degree(x), reverse=True)\n",
    "        \n",
    "        # Initialisation des couleurs des sommets\n",
    "        result = [-1] * self.V\n",
    "        # Liste des couleurs disponibles\n",
    "        available_colors = [True] * self.V\n",
    "\n",
    "        # Colorer les sommets\n",
    "        for u in sorted_vertices:\n",
    "            # Réinitialiser les couleurs disponibles pour le sommet u\n",
    "            available_colors = [True] * self.V\n",
    "\n",
    "            # Marquer les couleurs des sommets adjacents comme non disponibles\n",
    "            for i in self.graph[u]:\n",
    "                if result[i] != -1:\n",
    "                    available_colors[result[i]] = False\n",
    "\n",
    "            # Trouver la première couleur disponible\n",
    "            for color in range(self.V):\n",
    "                if available_colors[color]:\n",
    "                    result[u] = color\n",
    "                    break\n",
    "\n",
    "        # Afficher les résultats\n",
    "        for u in range(self.V):\n",
    "            print(f\"Sommet {u} ---> Couleur {result[u]}\")\n",
    "\n",
    "# Exemple d'utilisation\n",
    "g = Graph(5)\n",
    "g.add_edge(0, 1)\n",
    "g.add_edge(0, 2)\n",
    "g.add_edge(1, 2)\n",
    "g.add_edge(1, 3)\n",
    "g.add_edge(2, 3)\n",
    "g.add_edge(3, 4)\n",
    "\n",
    "g.welsh_powell()\n"
   ]
  },
  {
   "cell_type": "code",
   "execution_count": null,
   "id": "61fc1264",
   "metadata": {},
   "outputs": [],
   "source": []
  }
 ],
 "metadata": {
  "kernelspec": {
   "display_name": "Python 3 (ipykernel)",
   "language": "python",
   "name": "python3"
  },
  "language_info": {
   "codemirror_mode": {
    "name": "ipython",
    "version": 3
   },
   "file_extension": ".py",
   "mimetype": "text/x-python",
   "name": "python",
   "nbconvert_exporter": "python",
   "pygments_lexer": "ipython3",
   "version": "3.9.7"
  }
 },
 "nbformat": 4,
 "nbformat_minor": 5
}
