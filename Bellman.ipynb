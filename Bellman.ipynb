{
 "cells": [
  {
   "cell_type": "code",
   "execution_count": 1,
   "id": "8bb14ba8",
   "metadata": {},
   "outputs": [
    {
     "name": "stdout",
     "output_type": "stream",
     "text": [
      "Distances depuis la source: [0, -1, 2, -2, 1]\n",
      "Prédécesseurs: [None, 0, 1, 4, 1]\n"
     ]
    }
   ],
   "source": [
    "class Graph:\n",
    "    def __init__(self, vertices):\n",
    "        self.V = vertices  # Nombre de sommets\n",
    "        self.edges = []    # Liste des arcs (u, v, poids)\n",
    "\n",
    "    def add_edge(self, u, v, w):\n",
    "        self.edges.append((u, v, w))\n",
    "\n",
    "    def bellman_ford(self, src):\n",
    "        # Initialisation des distances et des prédécesseurs\n",
    "        d = [float('inf')] * self.V\n",
    "        pred = [None] * self.V\n",
    "\n",
    "        d[src] = 0\n",
    "\n",
    "        # Boucle principale\n",
    "        for _ in range(self.V - 1):\n",
    "            for u, v, w in self.edges:\n",
    "                if d[u] != float('inf') and d[u] + w < d[v]:\n",
    "                    d[v] = d[u] + w\n",
    "                    pred[v] = u\n",
    "\n",
    "        # Vérification des cycles de poids négatifs\n",
    "        for u, v, w in self.edges:\n",
    "            if d[u] != float('inf') and d[u] + w < d[v]:\n",
    "                print(\"Le graphe contient un cycle de poids négatif\")\n",
    "                return None, None\n",
    "\n",
    "        # Vérification des cycles absorbants\n",
    "        for u, v, w in self.edges:\n",
    "            if d[u] != float('inf') and d[u] + w < d[v]:\n",
    "                print(\"Il existe un cycle absorbant\")\n",
    "                return d, pred\n",
    "\n",
    "        return d, pred\n",
    "\n",
    "# Exemple d'utilisation\n",
    "if __name__ == \"__main__\":\n",
    "    g = Graph(5)\n",
    "    g.add_edge(0, 1, -1)\n",
    "    g.add_edge(0, 2, 4)\n",
    "    g.add_edge(1, 2, 3)\n",
    "    g.add_edge(1, 3, 2)\n",
    "    g.add_edge(1, 4, 2)\n",
    "    g.add_edge(3, 2, 5)\n",
    "    g.add_edge(3, 1, 1)\n",
    "    g.add_edge(4, 3, -3)\n",
    "\n",
    "    distances, predecessors = g.bellman_ford(0)\n",
    "\n",
    "    if distances is not None:\n",
    "        print(\"Distances depuis la source:\", distances)\n",
    "        print(\"Prédécesseurs:\", predecessors)\n"
   ]
  },
  {
   "cell_type": "code",
   "execution_count": null,
   "id": "619267a0",
   "metadata": {},
   "outputs": [],
   "source": []
  }
 ],
 "metadata": {
  "kernelspec": {
   "display_name": "Python 3 (ipykernel)",
   "language": "python",
   "name": "python3"
  },
  "language_info": {
   "codemirror_mode": {
    "name": "ipython",
    "version": 3
   },
   "file_extension": ".py",
   "mimetype": "text/x-python",
   "name": "python",
   "nbconvert_exporter": "python",
   "pygments_lexer": "ipython3",
   "version": "3.9.7"
  }
 },
 "nbformat": 4,
 "nbformat_minor": 5
}
