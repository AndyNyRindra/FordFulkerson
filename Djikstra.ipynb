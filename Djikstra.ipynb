{
 "cells": [
  {
   "cell_type": "code",
   "execution_count": 11,
   "id": "cbfacbed",
   "metadata": {},
   "outputs": [
    {
     "name": "stdout",
     "output_type": "stream",
     "text": [
      "Distances: {'A': inf, 'B': 0, 'C': inf, 'D': 4, 'E': 4, 'F': 1}\n",
      "Prédécesseurs: {'A': None, 'B': None, 'C': None, 'D': 'B', 'E': 'F', 'F': 'B'}\n"
     ]
    }
   ],
   "source": [
    "def initialisation(G, sdeb):\n",
    "    d = {s: float('inf') for s in G}\n",
    "    d[sdeb] = 0\n",
    "    return d\n",
    "\n",
    "def trouve_min(Q, d):\n",
    "    mini = float('inf')\n",
    "    sommet_min = None\n",
    "    for sommet in Q:\n",
    "        if d[sommet] < mini:\n",
    "            mini = d[sommet]\n",
    "            sommet_min = sommet\n",
    "    return sommet_min\n",
    "\n",
    "def maj_distances(s1, s2, G, d, predecesseur):\n",
    "    poids_s1_s2 = next((poids for voisin, poids in G[s1] if voisin == s2), float('inf'))\n",
    "    if d[s2] > d[s1] + poids_s1_s2:\n",
    "        d[s2] = d[s1] + poids_s1_s2\n",
    "        predecesseur[s2] = s1\n",
    "\n",
    "def dijkstra(G, sdeb):\n",
    "    # Initialisation\n",
    "    d = initialisation(G, sdeb)\n",
    "    predecesseur = {s: None for s in G}\n",
    "    Q = set(G.keys())\n",
    "    \n",
    "    while Q:\n",
    "        # Trouver le nœud avec la distance minimale\n",
    "        s1 = trouve_min(Q, d)\n",
    "        if s1 is None:\n",
    "            break\n",
    "        \n",
    "        # Retirer s1 de Q\n",
    "        Q.remove(s1)\n",
    "        \n",
    "        # Mettre à jour les distances pour les voisins de s1\n",
    "        for s2, _ in G[s1]:\n",
    "            maj_distances(s1, s2, G, d, predecesseur)\n",
    "    \n",
    "    return d, predecesseur\n",
    "\n",
    "# Exemple d'utilisation\n",
    "G = {\n",
    "    'A': [('B', 7), ('C', 1)],\n",
    "    'B': [('D', 4),('F', 1)],\n",
    "    'C': [('B', 5),('E', 2),('C', 7)],\n",
    "    'D': [],\n",
    "    'E': [('B', 2),('D', 5)],\n",
    "    'F': [('E', 3)]\n",
    "}\n",
    "sdeb = 'B'\n",
    "\n",
    "distances, predecesseurs = dijkstra(G, sdeb)\n",
    "print(\"Distances:\", distances)\n",
    "print(\"Prédécesseurs:\", predecesseurs)\n"
   ]
  },
  {
   "cell_type": "code",
   "execution_count": 14,
   "id": "1b665cb4",
   "metadata": {},
   "outputs": [
    {
     "name": "stdout",
     "output_type": "stream",
     "text": [
      "Le plus court chemin de B à F est: ['B', 'F']\n"
     ]
    }
   ],
   "source": [
    "def trouve_chemin(predecesseur, sdeb, sfin):\n",
    "    \"\"\"\n",
    "    Trouve le plus court chemin de sdeb à sfin en utilisant les prédécesseurs.\n",
    "    \n",
    "    Paramètres:\n",
    "    predecesseur (dict): Un dictionnaire où les clés sont les sommets et les valeurs sont les prédécesseurs dans le chemin le plus court.\n",
    "    sdeb: Le sommet de départ.\n",
    "    sfin: Le sommet de fin.\n",
    "    \n",
    "    Retourne:\n",
    "    list: Une liste représentant le plus court chemin de sdeb à sfin.\n",
    "    \"\"\"\n",
    "    chemin = []\n",
    "    s = sfin\n",
    "        \n",
    "    while s != sdeb:\n",
    "        chemin.insert(0, s)  # On ajoute s en tête de la liste\n",
    "        if predecesseur[s] is not None:\n",
    "            s = predecesseur[s]  # On continue de suivre le chemin\n",
    "        else:\n",
    "            return None\n",
    "    \n",
    "    chemin.insert(0, sdeb)  # On ajoute le nœud de départ en tête de la liste\n",
    "    return chemin\n",
    "\n",
    "# Exemple d'utilisation\n",
    "\n",
    "sdeb = 'B'\n",
    "sfin = 'F'\n",
    "\n",
    "chemin = trouve_chemin(predecesseurs, sdeb, sfin)\n",
    "print(\"Le plus court chemin de\", sdeb, \"à\", sfin, \"est:\", chemin)\n"
   ]
  },
  {
   "cell_type": "code",
   "execution_count": 15,
   "id": "339781a2",
   "metadata": {},
   "outputs": [
    {
     "name": "stdout",
     "output_type": "stream",
     "text": [
      "Distances: {'A': inf, 'B': 0, 'C': inf, 'D': 4, 'E': 4, 'F': 1}\n",
      "Chemins les plus courts à partir de B :\n",
      "Vers A : None\n",
      "Vers C : None\n",
      "Vers D : ['B', 'D']\n",
      "Vers E : ['B', 'F', 'E']\n",
      "Vers F : ['B', 'F']\n"
     ]
    }
   ],
   "source": [
    "def chemins_plus_courts(G, sdeb):\n",
    "    distances, predecesseurs = dijkstra(G, sdeb)\n",
    "    chemins = {}\n",
    "    for sommet in G:\n",
    "        if sommet != sdeb:\n",
    "            chemins[sommet] = trouve_chemin(predecesseurs, sdeb, sommet)\n",
    "    return distances, chemins\n",
    "\n",
    "distances, chemins = chemins_plus_courts(G, sdeb)\n",
    "print(\"Distances:\", distances)\n",
    "print(\"Chemins les plus courts à partir de\", sdeb, \":\")\n",
    "for sommet, chemin in chemins.items():\n",
    "    print(\"Vers\", sommet, \":\", chemin)"
   ]
  }
 ],
 "metadata": {
  "kernelspec": {
   "display_name": "Python 3 (ipykernel)",
   "language": "python",
   "name": "python3"
  },
  "language_info": {
   "codemirror_mode": {
    "name": "ipython",
    "version": 3
   },
   "file_extension": ".py",
   "mimetype": "text/x-python",
   "name": "python",
   "nbconvert_exporter": "python",
   "pygments_lexer": "ipython3",
   "version": "3.12.2"
  }
 },
 "nbformat": 4,
 "nbformat_minor": 5
}
