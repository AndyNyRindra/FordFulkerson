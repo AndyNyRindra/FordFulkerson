{
 "cells": [
  {
   "cell_type": "code",
   "execution_count": 1,
   "id": "d6c8585d",
   "metadata": {},
   "outputs": [
    {
     "name": "stdout",
     "output_type": "stream",
     "text": [
      "{'A': 0, 'B': inf, 'C': inf, 'D': inf}\n"
     ]
    }
   ],
   "source": [
    "def initialisation(G, sdeb):\n",
    "    \"\"\"\n",
    "    Initialisation de l'algorithme de Dijkstra.\n",
    "    \n",
    "    Paramètres:\n",
    "    G (dict): Un dictionnaire représentant le graphe, où les clés sont les sommets et les valeurs sont des listes de tuples (voisin, poids).\n",
    "    sdeb: Le sommet de départ.\n",
    "    \n",
    "    Retourne:\n",
    "    dict: Un dictionnaire où les clés sont les sommets et les valeurs sont les distances initialisées (infini pour tous sauf le sommet de départ qui est 0).\n",
    "    \"\"\"\n",
    "    # Initialisation des distances\n",
    "    d = {s: float('inf') for s in G}\n",
    "    d[sdeb] = 0\n",
    "    \n",
    "    return d\n",
    "\n",
    "# Exemple d'utilisation\n",
    "G = {\n",
    "    'A': [('B', 1), ('C', 4)],\n",
    "    'B': [('A', 1), ('C', 2), ('D', 5)],\n",
    "    'C': [('A', 4), ('B', 2), ('D', 1)],\n",
    "    'D': [('B', 5), ('C', 1)]\n",
    "}\n",
    "sdeb = 'A'\n",
    "\n",
    "distances_initiales = initialisation(G, sdeb)\n",
    "print(distances_initiales)\n"
   ]
  },
  {
   "cell_type": "code",
   "execution_count": 2,
   "id": "b2fbd926",
   "metadata": {},
   "outputs": [
    {
     "name": "stdout",
     "output_type": "stream",
     "text": [
      "A\n"
     ]
    }
   ],
   "source": [
    "def trouve_min(Q, d):\n",
    "    \"\"\"\n",
    "    Trouve le sommet avec la distance minimale parmi ceux qui ne sont pas encore traités.\n",
    "    \n",
    "    Paramètres:\n",
    "    Q (set): Un ensemble de sommets qui n'ont pas encore été traités.\n",
    "    d (dict): Un dictionnaire où les clés sont les sommets et les valeurs sont les distances depuis le sommet de départ.\n",
    "    \n",
    "    Retourne:\n",
    "    sommet: Le sommet avec la distance minimale.\n",
    "    \"\"\"\n",
    "    mini = float('inf')\n",
    "    sommet_min = None\n",
    "    \n",
    "    for sommet in Q:\n",
    "        if d[sommet] < mini:\n",
    "            mini = d[sommet]\n",
    "            sommet_min = sommet\n",
    "    \n",
    "    return sommet_min\n",
    "\n",
    "# Exemple d'utilisation\n",
    "Q = {'A', 'B', 'C', 'D'}\n",
    "d = {\n",
    "    'A': 0,\n",
    "    'B': float('inf'),\n",
    "    'C': float('inf'),\n",
    "    'D': float('inf')\n",
    "}\n",
    "\n",
    "sommet_minimal = trouve_min(Q, d)\n",
    "print(sommet_minimal)\n"
   ]
  },
  {
   "cell_type": "code",
   "execution_count": 3,
   "id": "2f1a60ea",
   "metadata": {},
   "outputs": [
    {
     "name": "stdout",
     "output_type": "stream",
     "text": [
      "{'A': 0, 'B': 1, 'C': inf, 'D': inf}\n",
      "{'A': None, 'B': 'A', 'C': None, 'D': None}\n"
     ]
    }
   ],
   "source": [
    "def maj_distances(s1, s2, G, d, predecesseur):\n",
    "    \"\"\"\n",
    "    Met à jour la distance du sommet s2 si un chemin plus court passant par s1 est trouvé.\n",
    "    \n",
    "    Paramètres:\n",
    "    s1: Le sommet source.\n",
    "    s2: Le sommet destination.\n",
    "    G (dict): Un dictionnaire représentant le graphe, où les clés sont les sommets et les valeurs sont des listes de tuples (voisin, poids).\n",
    "    d (dict): Un dictionnaire où les clés sont les sommets et les valeurs sont les distances depuis le sommet de départ.\n",
    "    predecesseur (dict): Un dictionnaire où les clés sont les sommets et les valeurs sont les prédécesseurs dans le chemin le plus court.\n",
    "    \n",
    "    Retourne:\n",
    "    None\n",
    "    \"\"\"\n",
    "    poids_s1_s2 = next((poids for voisin, poids in G[s1] if voisin == s2), float('inf'))\n",
    "    \n",
    "    if d[s2] > d[s1] + poids_s1_s2:\n",
    "        d[s2] = d[s1] + poids_s1_s2\n",
    "        predecesseur[s2] = s1\n",
    "\n",
    "# Exemple d'utilisation\n",
    "G = {\n",
    "    'A': [('B', 1), ('C', 4)],\n",
    "    'B': [('A', 1), ('C', 2), ('D', 5)],\n",
    "    'C': [('A', 4), ('B', 2), ('D', 1)],\n",
    "    'D': [('B', 5), ('C', 1)]\n",
    "}\n",
    "d = {\n",
    "    'A': 0,\n",
    "    'B': float('inf'),\n",
    "    'C': float('inf'),\n",
    "    'D': float('inf')\n",
    "}\n",
    "predecesseur = {\n",
    "    'A': None,\n",
    "    'B': None,\n",
    "    'C': None,\n",
    "    'D': None\n",
    "}\n",
    "\n",
    "maj_distances('A', 'B', G, d, predecesseur)\n",
    "print(d)\n",
    "print(predecesseur)\n"
   ]
  },
  {
   "cell_type": "code",
   "execution_count": 4,
   "id": "cbfacbed",
   "metadata": {},
   "outputs": [
    {
     "name": "stdout",
     "output_type": "stream",
     "text": [
      "Distances: {'A': 0, 'B': 5, 'C': 1, 'D': 8, 'E': 3, 'F': 6}\n",
      "Prédécesseurs: {'A': None, 'B': 'E', 'C': 'A', 'D': 'E', 'E': 'C', 'F': 'B'}\n"
     ]
    }
   ],
   "source": [
    "def initialisation(G, sdeb):\n",
    "    d = {s: float('inf') for s in G}\n",
    "    d[sdeb] = 0\n",
    "    return d\n",
    "\n",
    "def trouve_min(Q, d):\n",
    "    mini = float('inf')\n",
    "    sommet_min = None\n",
    "    for sommet in Q:\n",
    "        if d[sommet] < mini:\n",
    "            mini = d[sommet]\n",
    "            sommet_min = sommet\n",
    "    return sommet_min\n",
    "\n",
    "def maj_distances(s1, s2, G, d, predecesseur):\n",
    "    poids_s1_s2 = next((poids for voisin, poids in G[s1] if voisin == s2), float('inf'))\n",
    "    if d[s2] > d[s1] + poids_s1_s2:\n",
    "        d[s2] = d[s1] + poids_s1_s2\n",
    "        predecesseur[s2] = s1\n",
    "\n",
    "def dijkstra(G, sdeb):\n",
    "    # Initialisation\n",
    "    d = initialisation(G, sdeb)\n",
    "    predecesseur = {s: None for s in G}\n",
    "    Q = set(G.keys())\n",
    "    \n",
    "    while Q:\n",
    "        # Trouver le nœud avec la distance minimale\n",
    "        s1 = trouve_min(Q, d)\n",
    "        if s1 is None:\n",
    "            break\n",
    "        \n",
    "        # Retirer s1 de Q\n",
    "        Q.remove(s1)\n",
    "        \n",
    "        # Mettre à jour les distances pour les voisins de s1\n",
    "        for s2, _ in G[s1]:\n",
    "            maj_distances(s1, s2, G, d, predecesseur)\n",
    "    \n",
    "    return d, predecesseur\n",
    "\n",
    "# Exemple d'utilisation\n",
    "G = {\n",
    "    'A': [('B', 7), ('C', 1)],\n",
    "    'B': [('D', 4),('F', 1)],\n",
    "    'C': [('B', 5),('E', 2),('C', 7)],\n",
    "    'D': [],\n",
    "    'E': [('B', 2),('D', 5)],\n",
    "    'F': [('E', 3)]\n",
    "}\n",
    "sdeb = 'A'\n",
    "\n",
    "distances, predecesseurs = dijkstra(G, sdeb)\n",
    "print(\"Distances:\", distances)\n",
    "print(\"Prédécesseurs:\", predecesseurs)\n"
   ]
  },
  {
   "cell_type": "code",
   "execution_count": 3,
   "id": "1b665cb4",
   "metadata": {},
   "outputs": [
    {
     "name": "stdout",
     "output_type": "stream",
     "text": [
      "Le plus court chemin de A à D est: ['A', 'B', 'C', 'D']\n"
     ]
    }
   ],
   "source": [
    "def trouve_chemin(predecesseur, sdeb, sfin):\n",
    "    \"\"\"\n",
    "    Trouve le plus court chemin de sdeb à sfin en utilisant les prédécesseurs.\n",
    "    \n",
    "    Paramètres:\n",
    "    predecesseur (dict): Un dictionnaire où les clés sont les sommets et les valeurs sont les prédécesseurs dans le chemin le plus court.\n",
    "    sdeb: Le sommet de départ.\n",
    "    sfin: Le sommet de fin.\n",
    "    \n",
    "    Retourne:\n",
    "    list: Une liste représentant le plus court chemin de sdeb à sfin.\n",
    "    \"\"\"\n",
    "    chemin = []\n",
    "    s = sfin\n",
    "    \n",
    "    while s != sdeb:\n",
    "        chemin.insert(0, s)  # On ajoute s en tête de la liste\n",
    "        s = predecesseur[s]  # On continue de suivre le chemin\n",
    "    \n",
    "    chemin.insert(0, sdeb)  # On ajoute le nœud de départ en tête de la liste\n",
    "    return chemin\n",
    "\n",
    "# Exemple d'utilisation\n",
    "\n",
    "sdeb = 'A'\n",
    "sfin = 'D'\n",
    "\n",
    "chemin = trouve_chemin(predecesseurs, sdeb, sfin)\n",
    "print(\"Le plus court chemin de\", sdeb, \"à\", sfin, \"est:\", chemin)\n"
   ]
  },
  {
   "cell_type": "code",
   "execution_count": null,
   "id": "339781a2",
   "metadata": {},
   "outputs": [],
   "source": []
  }
 ],
 "metadata": {
  "kernelspec": {
   "display_name": "Python 3 (ipykernel)",
   "language": "python",
   "name": "python3"
  },
  "language_info": {
   "codemirror_mode": {
    "name": "ipython",
    "version": 3
   },
   "file_extension": ".py",
   "mimetype": "text/x-python",
   "name": "python",
   "nbconvert_exporter": "python",
   "pygments_lexer": "ipython3",
   "version": "3.9.7"
  }
 },
 "nbformat": 4,
 "nbformat_minor": 5
}
